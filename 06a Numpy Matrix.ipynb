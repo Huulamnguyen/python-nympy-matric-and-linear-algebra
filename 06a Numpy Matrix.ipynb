{
 "cells": [
  {
   "cell_type": "markdown",
   "metadata": {},
   "source": [
    "# Phyton Matrix"
   ]
  },
  {
   "cell_type": "markdown",
   "metadata": {},
   "source": [
    "References:  \n",
    "https://www.tutorialspoint.com/numpy/numpy_matrix_library.htm  \n",
    "https://numpy.org/devdocs/user/numpy-for-matlab-users.html#array-or-matrix-which-should-i-use  \n",
    "Note: To make a new line in markdown add two spaces after the first sentence"
   ]
  },
  {
   "cell_type": "code",
   "execution_count": 1,
   "metadata": {},
   "outputs": [],
   "source": [
    "import numpy as np\n",
    "import numpy.matlib as npm #Submodules are not imported automatically\n",
    "import numpy.linalg as npalg #Linear algebra"
   ]
  },
  {
   "cell_type": "markdown",
   "metadata": {},
   "source": [
    "Matrix objects follows matrix matematical rules by default\n",
    "\n",
    "Arrays are use more often than matices in programming."
   ]
  },
  {
   "cell_type": "code",
   "execution_count": 2,
   "metadata": {},
   "outputs": [
    {
     "name": "stdout",
     "output_type": "stream",
     "text": [
      "Empty Matrix:\n",
      " [[1.24766850e-311 1.14425908e+243]\n",
      " [7.45717380e+006 3.38226911e-061]]\n",
      "\n",
      "Zeroes Matrix:\n",
      " [[0. 0.]\n",
      " [0. 0.]]\n",
      "\n",
      "Ones Matrix:\n",
      " [[1. 1.]\n",
      " [1. 1.]]\n"
     ]
    }
   ],
   "source": [
    "print('Empty Matrix:\\n' ,npm.empty((2,2), dtype = 'float64')) \n",
    "\n",
    "print('\\nZeroes Matrix:\\n',npm.zeros((2,2)))\n",
    "\n",
    "print('\\nOnes Matrix:\\n',npm.ones((2,2)))"
   ]
  },
  {
   "cell_type": "code",
   "execution_count": 3,
   "metadata": {
    "scrolled": true
   },
   "outputs": [
    {
     "name": "stdout",
     "output_type": "stream",
     "text": [
      "Identity Matrix:\n",
      " [[1 0 0]\n",
      " [0 1 0]\n",
      " [0 0 1]]\n",
      "\n",
      "Eye Matrix: \n",
      " [[1 0 0 0]\n",
      " [0 1 0 0]\n",
      " [0 0 1 0]]\n",
      "\n",
      "Eye Matrix: \n",
      " [[0 0 1 0 0 0]\n",
      " [0 0 0 1 0 0]\n",
      " [0 0 0 0 1 0]]\n"
     ]
    }
   ],
   "source": [
    "print('Identity Matrix:\\n',npm.identity(3, dtype = 'int16')) #Always a square matrix\n",
    "\n",
    "print('\\nEye Matrix: \\n', npm.eye(3, 4 ,0, dtype = 'int8')) #Does not need to be square\n",
    "\n",
    "print('\\nEye Matrix: \\n', npm.eye(3, 6 ,2, dtype = 'int8')) #Does not need to be square\n"
   ]
  },
  {
   "cell_type": "code",
   "execution_count": 2,
   "metadata": {},
   "outputs": [
    {
     "name": "stdout",
     "output_type": "stream",
     "text": [
      "A:\n",
      " [[ 1  2  3]\n",
      " [ 4  5  6]\n",
      " [ 7  8  9]\n",
      " [10 11 12]]\n",
      "Transpose:\n",
      " [[ 1  4  7 10]\n",
      " [ 2  5  8 11]\n",
      " [ 3  6  9 12]]\n",
      "\n",
      "A:\n",
      " [[ 1  2  3]\n",
      " [ 4  5  6]\n",
      " [ 7  8  9]\n",
      " [10 11 12]]\n",
      "Transpose:\n",
      " [[ 1  4  7 10]\n",
      " [ 2  5  8 11]\n",
      " [ 3  6  9 12]]\n"
     ]
    }
   ],
   "source": [
    "#Transpose. Same for arrays and matrices\n",
    "\n",
    "A = npm.matrix([[1, 2, 3],[4, 5, 6], [7, 8, 9], [10, 11, 12]])\n",
    "print('A:\\n', A)\n",
    "print('Transpose:\\n',A.T) #Matrix transpose\n",
    "\n",
    "A = np.array([[1, 2, 3],[4, 5, 6], [7, 8, 9], [10, 11, 12]])\n",
    "\n",
    "print('\\nA:\\n', A)\n",
    "print('Transpose:\\n',A.T) #Matrix transpose"
   ]
  },
  {
   "cell_type": "code",
   "execution_count": 7,
   "metadata": {},
   "outputs": [
    {
     "name": "stdout",
     "output_type": "stream",
     "text": [
      "[[0.50898519 0.90082904 0.51706811 0.84088642]\n",
      " [0.86648828 0.93878032 0.24874753 0.89749455]\n",
      " [0.44816882 0.89481716 0.48485063 0.20785547]\n",
      " [0.01411936 0.85990353 0.32259117 0.38753144]]\n"
     ]
    }
   ],
   "source": [
    "#Random matrix\n",
    "print(npm.rand(4,4))"
   ]
  },
  {
   "cell_type": "code",
   "execution_count": 21,
   "metadata": {},
   "outputs": [
    {
     "name": "stdout",
     "output_type": "stream",
     "text": [
      "A:\n",
      " [[4 3]\n",
      " [2 1]]\n",
      "B:\n",
      " [[1 2]\n",
      " [3 4]]\n",
      "A*B:\n",
      " [[13 20]\n",
      " [ 5  8]]\n"
     ]
    }
   ],
   "source": [
    "#Matrix multiplication\n",
    "\n",
    "A = npm.matrix([[4, 3], [2, 1]]) \n",
    "B = npm.matrix('1, 2; 3, 4') #Both formats are equivalent\n",
    "\n",
    "print('A:\\n', A)\n",
    "print('B:\\n', B)\n",
    "print('A*B:\\n',A*B)"
   ]
  },
  {
   "cell_type": "code",
   "execution_count": 42,
   "metadata": {
    "collapsed": true
   },
   "outputs": [
    {
     "name": "stdout",
     "output_type": "stream",
     "text": [
      "A:\n",
      " [[4 3]\n",
      " [2 1]]\n",
      "B:\n",
      " [[1 2]\n",
      " [3 4]]\n",
      "\n",
      "A*B:\n",
      " [[4 6]\n",
      " [6 4]]\n",
      "\n",
      "inner(A,B):\n",
      " [[10 24]\n",
      " [ 4 10]]\n",
      "\n",
      "dot(A,B):\n",
      " [[13 20]\n",
      " [ 5  8]]\n",
      "\n",
      "A@B:\n",
      " [[13 20]\n",
      " [ 5  8]]\n"
     ]
    }
   ],
   "source": [
    "A = np.array([[4, 3], [2, 1]]) \n",
    "#B = np.array('1, 2; 3, 4') #Does not work in arrays\n",
    "B = np.array([[1,2],[3,4]])\n",
    "\n",
    "print('A:\\n', A)\n",
    "print('B:\\n', B)\n",
    "print('\\nA*B:\\n',A*B)\n",
    "print('\\ndot(A,B):\\n', np.dot(A,B))\n",
    "print('\\nA@B:\\n',A@B) #@Is the equivalent of matrix multiplication"
   ]
  },
  {
   "cell_type": "code",
   "execution_count": 51,
   "metadata": {},
   "outputs": [
    {
     "name": "stdout",
     "output_type": "stream",
     "text": [
      "A:\n",
      " [[4 3]\n",
      " [2 1]]\n",
      "B:\n",
      " [[1 2]\n",
      " [3 4]]\n",
      "\n",
      "Inner(A,B):\n",
      " [[10 24]\n",
      " [ 4 10]]\n",
      "\n",
      " 10 24\n",
      "\n",
      " 4 10\n"
     ]
    }
   ],
   "source": [
    "#Inner product: Tricky\n",
    "\n",
    "A = np.array([[4, 3], [2, 1]]) \n",
    "B = np.array([[1,2],[3,4]])\n",
    "\n",
    "print('A:\\n', A)\n",
    "print('B:\\n', B)\n",
    "print('\\nInner(A,B):\\n', np.inner(A,B))\n",
    "\n",
    "#Notice: \n",
    "print('\\n',4*1+3*2, 4*3+3*4)\n",
    "print('\\n',2*1+1*2, 2*3+1*4)\n",
    "  "
   ]
  },
  {
   "cell_type": "code",
   "execution_count": 53,
   "metadata": {},
   "outputs": [
    {
     "name": "stdout",
     "output_type": "stream",
     "text": [
      "A:\n",
      " [[4 3]\n",
      " [2 1]]\n",
      "B:\n",
      " [[1 2]\n",
      " [3 4]]\n",
      "\n",
      "Outer(A,B):\n",
      " [[ 4  8 12 16]\n",
      " [ 3  6  9 12]\n",
      " [ 2  4  6  8]\n",
      " [ 1  2  3  4]]\n"
     ]
    }
   ],
   "source": [
    "#Outer product:\n",
    "\n",
    "A = np.array([[4, 3], [2, 1]]) \n",
    "B = np.array([[1,2],[3,4]])\n",
    "\n",
    "print('A:\\n', A)\n",
    "print('B:\\n', B)\n",
    "print('\\nOuter(A,B):\\n', np.outer(A,B))"
   ]
  },
  {
   "cell_type": "code",
   "execution_count": 77,
   "metadata": {},
   "outputs": [
    {
     "name": "stdout",
     "output_type": "stream",
     "text": [
      "A:\n",
      " [[4 3]\n",
      " [2 1]]\n",
      "\n",
      "|A|: -2.0\n",
      "\n",
      "B:\n",
      " [[1 3]\n",
      " [3 9]]\n",
      "\n",
      "|B|: -4.996003610813175e-16\n",
      "\n",
      "C:\n",
      " [[0.3235723  0.10229923 0.00679825 ... 0.48080788 0.37322587 0.43343096]\n",
      " [0.08614292 0.78759584 0.99751077 ... 0.16401257 0.26154838 0.53263207]\n",
      " [0.06928653 0.80771399 0.29335895 ... 0.54115783 0.76796186 0.26942361]\n",
      " ...\n",
      " [0.24434256 0.99876482 0.24940374 ... 0.3254425  0.24476605 0.92082733]\n",
      " [0.45566683 0.05560448 0.817796   ... 0.80565505 0.77174588 0.36534119]\n",
      " [0.02574196 0.66264626 0.81049167 ... 0.83530854 0.97607608 0.5412466 ]]\n",
      "\n",
      "|C|: 4.388174280989307e+25\n"
     ]
    }
   ],
   "source": [
    "#Determinant\n",
    "\n",
    "A = np.array([[4, 3], [2, 1]])\n",
    "\n",
    "print('A:\\n', A)\n",
    "\n",
    "print('\\n|A|:', npalg.det(A))\n",
    "\n",
    "B = np.array([[1, 3], [3, 9]])\n",
    "print('\\nB:\\n', B)\n",
    "print('\\n|B|:', npalg.det(B))"
   ]
  },
  {
   "cell_type": "code",
   "execution_count": 93,
   "metadata": {},
   "outputs": [
    {
     "name": "stdout",
     "output_type": "stream",
     "text": [
      "C:\n",
      " [[3 0 5 ... 7 3 3]\n",
      " [5 0 6 ... 5 9 0]\n",
      " [9 4 5 ... 6 5 5]\n",
      " ...\n",
      " [8 3 3 ... 5 3 0]\n",
      " [0 9 5 ... 5 2 1]\n",
      " [0 6 8 ... 9 9 5]]\n",
      "\n",
      "|C|: -inf\n",
      "C:\n",
      " [[0.3 0.  0.5 ... 0.7 0.3 0.3]\n",
      " [0.5 0.  0.6 ... 0.5 0.9 0. ]\n",
      " [0.9 0.4 0.5 ... 0.6 0.5 0.5]\n",
      " ...\n",
      " [0.8 0.3 0.3 ... 0.5 0.3 0. ]\n",
      " [0.  0.9 0.5 ... 0.5 0.2 0.1]\n",
      " [0.  0.6 0.8 ... 0.9 0.9 0.5]]\n",
      "\n",
      "|C|: -1.3460856719457858e+112\n"
     ]
    }
   ],
   "source": [
    "#Determinant\n",
    "C = np.random.randint(10, size = (250,250))\n",
    "\n",
    "print('C:\\n', C)\n",
    "print('\\n|C|:', npalg.det(C))\n",
    "\n",
    "C = C/10 #Scaling  c\n",
    "\n",
    "print('C:\\n', C)\n",
    "print('\\n|C|:', npalg.det(C))\n"
   ]
  },
  {
   "cell_type": "code",
   "execution_count": null,
   "metadata": {},
   "outputs": [
    {
     "name": "stdout",
     "output_type": "stream",
     "text": [
      "C:\n",
      " [[7 5 0 ... 3 0 2]\n",
      " [3 4 6 ... 7 6 9]\n",
      " [9 7 5 ... 8 8 5]\n",
      " ...\n",
      " [0 0 1 ... 9 8 8]\n",
      " [2 7 2 ... 3 3 0]\n",
      " [4 4 3 ... 2 5 2]]\n"
     ]
    }
   ],
   "source": [
    "#Determinant\n",
    "C = np.random.randint(10, size = (20000,20000))\n",
    "\n",
    "print('C:\\n', C)\n",
    "print('\\n|C|:', npalg.det(C))\n",
    "print('\\ninv(C):', npalg.inv(C))\n"
   ]
  },
  {
   "cell_type": "code",
   "execution_count": 20,
   "metadata": {},
   "outputs": [
    {
     "name": "stdout",
     "output_type": "stream",
     "text": [
      "A:\n",
      " [[ 1  2  3]\n",
      " [ 8  2  1]\n",
      " [ 4  1 11]]\n",
      "\n",
      "|A|: -146.99999999999997\n",
      "\n",
      "inv(A):\n",
      " [[-0.14285714  0.1292517   0.02721088]\n",
      " [ 0.57142857  0.00680272 -0.15646259]\n",
      " [ 0.         -0.04761905  0.0952381 ]]\n",
      "\n",
      "A@B:\n",
      " [[1.00000000e+00 0.00000000e+00 0.00000000e+00]\n",
      " [0.00000000e+00 1.00000000e+00 0.00000000e+00]\n",
      " [0.00000000e+00 5.55111512e-17 1.00000000e+00]]\n"
     ]
    }
   ],
   "source": [
    "#Investment\n",
    "A = np.array([[1, 2, 3], [8, 2, 1], [4, 1, 11]])\n",
    "\n",
    "print('A:\\n',A )\n",
    "print('\\n|A|:', npalg.det(A))\n",
    "\n",
    "B = npalg.inv(A)   #Inverse Matrix\n",
    "\n",
    "print('\\ninv(A):\\n', B)\n",
    "\n",
    "print('\\nA@B:\\n', A@B)\n",
    "      "
   ]
  },
  {
   "cell_type": "code",
   "execution_count": 19,
   "metadata": {},
   "outputs": [
    {
     "name": "stdout",
     "output_type": "stream",
     "text": [
      "A:\n",
      " [[1 2 3]\n",
      " [8 2 1]\n",
      " [9 4 4]]\n",
      "\n",
      "|A|: -3.972131265881095e-15\n",
      "\n",
      "inv(A):\n",
      " [[-0.08951867  0.11021143  0.02069276]\n",
      " [ 0.09806568 -0.05038237  0.04768331]\n",
      " [ 0.18668466 -0.11426001  0.07242465]]\n",
      "\n",
      "A@B:\n",
      " [[ 0.66666667 -0.33333333  0.33333333]\n",
      " [-0.33333333  0.66666667  0.33333333]\n",
      " [ 0.33333333  0.33333333  0.66666667]]\n"
     ]
    }
   ],
   "source": [
    "#Inverse\n",
    "A = np.array([[1, 2, 3], [8, 2, 1], [9, 4, 4]])\n",
    "\n",
    "print('A:\\n',A )\n",
    "print('\\n|A|:', npalg.det(A))\n",
    "\n",
    "B = npalg.inv(A)\n",
    "\n",
    "print('\\ninv(A):\\n', B)\n",
    "\n",
    "print('\\nA@B:\\n', A@B)\n",
    "\n",
    "#Notice that matrices without inverse can be problematic\n",
    "      "
   ]
  },
  {
   "cell_type": "code",
   "execution_count": 25,
   "metadata": {},
   "outputs": [
    {
     "name": "stdout",
     "output_type": "stream",
     "text": [
      "A:\n",
      " [[1 2 3]\n",
      " [8 2 1]\n",
      " [9 4 4]]\n",
      "\n",
      "|A|: -3.972131265881095e-15\n",
      "\n",
      "inv(A):\n",
      " [[-1.00701607e+15 -1.00701607e+15  1.00701607e+15]\n",
      " [ 5.79034238e+15  5.79034238e+15 -5.79034238e+15]\n",
      " [-3.52455623e+15 -3.52455623e+15  3.52455623e+15]]\n",
      "\n",
      "pinv(A):\n",
      " [[-0.08951867  0.11021143  0.02069276]\n",
      " [ 0.09806568 -0.05038237  0.04768331]\n",
      " [ 0.18668466 -0.11426001  0.07242465]]\n",
      "\n",
      "A@C:\n",
      " [[ 0.66666667 -0.33333333  0.33333333]\n",
      " [-0.33333333  0.66666667  0.33333333]\n",
      " [ 0.33333333  0.33333333  0.66666667]]\n"
     ]
    }
   ],
   "source": [
    "#Pseudo Inverse\n",
    "A = np.array([[1, 2, 3], [8, 2, 1], [9, 4, 4]])\n",
    "\n",
    "print('A:\\n',A )\n",
    "print('\\n|A|:', npalg.det(A))\n",
    "\n",
    "B = npalg.inv(A)   #Inverse Matrix\n",
    "C = npalg.pinv(A)  #Pseudo inverse Matrix\n",
    "\n",
    "print('\\ninv(A):\\n', B)\n",
    "print('\\npinv(A):\\n', C)\n",
    "\n",
    "print('\\nA@C:\\n', A@C)"
   ]
  },
  {
   "cell_type": "code",
   "execution_count": 27,
   "metadata": {},
   "outputs": [
    {
     "name": "stdout",
     "output_type": "stream",
     "text": [
      "A:\n",
      " [[1 2 3 4]\n",
      " [8 2 1 5]\n",
      " [9 4 4 2]]\n",
      "\n",
      "pinv(A):\n",
      " [[-0.12299981  0.07673029  0.0541739 ]\n",
      " [ 0.06439175 -0.08405629  0.08135724]\n",
      " [ 0.14092925 -0.16001542  0.11818007]\n",
      " [ 0.14285714  0.14285714 -0.14285714]]\n",
      "\n",
      "A@C:\n",
      " [[ 1.00000000e+00  0.00000000e+00  0.00000000e+00]\n",
      " [ 6.66133815e-16  1.00000000e+00  4.44089210e-16]\n",
      " [ 1.11022302e-16 -1.11022302e-16  1.00000000e+00]]\n"
     ]
    }
   ],
   "source": [
    "#Pseudo inverse\n",
    "A = np.array([[1, 2, 3, 4], [8, 2, 1, 5], [9, 4, 4, 2]])\n",
    "\n",
    "print('A:\\n',A )\n",
    "#print('\\n|A|:', npalg.det(A))\n",
    "\n",
    "#B = npalg.inv(A)   #Inverse Matrix\n",
    "C = npalg.pinv(A)  #Pseudo inverse Matrix\n",
    "\n",
    "#print('\\ninv(A):\\n', B)\n",
    "print('\\npinv(A):\\n', C)\n",
    "\n",
    "print('\\nA@C:\\n', A@C)"
   ]
  }
 ],
 "metadata": {
  "kernelspec": {
   "display_name": "Python 3",
   "language": "python",
   "name": "python3"
  },
  "language_info": {
   "codemirror_mode": {
    "name": "ipython",
    "version": 3
   },
   "file_extension": ".py",
   "mimetype": "text/x-python",
   "name": "python",
   "nbconvert_exporter": "python",
   "pygments_lexer": "ipython3",
   "version": "3.7.3"
  }
 },
 "nbformat": 4,
 "nbformat_minor": 2
}
