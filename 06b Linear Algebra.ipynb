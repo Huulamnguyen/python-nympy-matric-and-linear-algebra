{
 "cells": [
  {
   "cell_type": "code",
   "execution_count": 1,
   "metadata": {},
   "outputs": [],
   "source": [
    "import matplotlib.pyplot as plt\n",
    "import numpy as np\n",
    "\n",
    "import math #Importing without an alias\n",
    "\n",
    "from mpl_toolkits.mplot3d import Axes3D #Import a single function"
   ]
  },
  {
   "cell_type": "code",
   "execution_count": 2,
   "metadata": {},
   "outputs": [
    {
     "name": "stdout",
     "output_type": "stream",
     "text": [
      "Radians: 0.4228539261329404\n",
      "Degrees: 24.227745317954156\n"
     ]
    }
   ],
   "source": [
    "#Angle between two vectors\n",
    "\n",
    "a = [1, 5]\n",
    "b = [5, 7]\n",
    "\n",
    "a_norm = np.linalg.norm(a)\n",
    "b_norm = np.linalg.norm(b)\n",
    "ab_dot = np.dot(a,b)\n",
    "ab_cos = ab_dot/(a_norm*b_norm)\n",
    "radians = math.acos(ab_cos)\n",
    "degrees = radians*180/math.pi\n",
    "\n",
    "print('Radians:', radians)\n",
    "print('Degrees:', degrees)"
   ]
  },
  {
   "cell_type": "code",
   "execution_count": 3,
   "metadata": {},
   "outputs": [
    {
     "data": {
      "image/png": "[encoded data removed]",
      "text/plain": [
       "<Figure size 432x288 with 1 Axes>"
      ]
     },
     "metadata": {
      "needs_background": "light"
     },
     "output_type": "display_data"
    }
   ],
   "source": [
    "#Plot two vectors:\n",
    "\n",
    "ax = plt.axes()\n",
    "\n",
    "ax.arrow(0.0, 0.0, a[0], a[1], head_width=0.5, head_length=0.7, fc='lightblue', ec='black')\n",
    "ax.arrow(0.0, 0.0, b[0], b[1], head_width=0.5, head_length=0.7, fc='red', ec='black')\n",
    "\n",
    "plt.grid()\n",
    "\n",
    "plt.xlim(0,10)\n",
    "plt.ylim(0,10)\n",
    "\n",
    "plt.title('Vectors',fontsize=10)\n",
    "\n",
    "plt.show() \n",
    "plt.close()"
   ]
  },
  {
   "cell_type": "code",
   "execution_count": 4,
   "metadata": {},
   "outputs": [],
   "source": [
    "#Function to calculate angle between two vectors\n",
    "\n",
    "def Angle(a,b): #Function receive two vectors\n",
    "    a_norm = np.linalg.norm(a)\n",
    "    b_norm = np.linalg.norm(b)\n",
    "    ab_dot = np.dot(a,b)\n",
    "    ab_cos = round(ab_dot/(a_norm*b_norm),5)\n",
    "    radians = math.acos(ab_cos) #Remove round and try opposite vectors!!\n",
    "    degrees = radians*180/math.pi\n",
    "    return(radians, degrees)"
   ]
  },
  {
   "cell_type": "code",
   "execution_count": 5,
   "metadata": {},
   "outputs": [
    {
     "name": "stdout",
     "output_type": "stream",
     "text": [
      "(3.141592653589793, 180.0)\n",
      "(0.6608350058397622, 37.86305678912149)\n"
     ]
    }
   ],
   "source": [
    "# Angle function examples\n",
    "a = [1,1,1]\n",
    "b = [-1, -1,-1]\n",
    "\n",
    "print(Angle(a, b))\n",
    "\n",
    "Vector1 = [1, 5, 9, -3, 8]\n",
    "Vector2 = [5, 7, 6, 4, 8]\n",
    "\n",
    "print(Angle(Vector1, Vector2))"
   ]
  },
  {
   "cell_type": "code",
   "execution_count": 6,
   "metadata": {},
   "outputs": [
    {
     "name": "stdout",
     "output_type": "stream",
     "text": [
      "Angle:\n",
      " (1.5707963267948966, 90.0)\n"
     ]
    },
    {
     "data": {
      "image/png": "[encoded data removed]",
      "text/plain": [
       "<Figure size 432x288 with 1 Axes>"
      ]
     },
     "metadata": {
      "needs_background": "light"
     },
     "output_type": "display_data"
    }
   ],
   "source": [
    "#Orthogonal vectors\n",
    "\n",
    "a = [4, 2]\n",
    "b = [-1, 2]\n",
    "\n",
    "print('Angle:\\n',Angle(a,b))\n",
    "\n",
    "#Plot two vectors:\n",
    "\n",
    "ax = plt.axes()\n",
    "\n",
    "ax.arrow(0.0, 0.0, a[0], a[1], head_width=0.5, head_length=0.7, fc='lightblue', ec='black')\n",
    "ax.arrow(0.0, 0.0, b[0], b[1], head_width=0.5, head_length=0.7, fc='red', ec='black')\n",
    "\n",
    "plt.grid()\n",
    "\n",
    "plt.xlim(-5,5)\n",
    "plt.ylim(0,5)\n",
    "\n",
    "plt.title('Vectors',fontsize=10)\n",
    "\n",
    "plt.show() \n",
    "plt.close()"
   ]
  },
  {
   "cell_type": "code",
   "execution_count": 7,
   "metadata": {},
   "outputs": [
    {
     "name": "stdout",
     "output_type": "stream",
     "text": [
      "A:\n",
      " [[ 4  2]\n",
      " [-1  2]]\n",
      "\n",
      "AT:\n",
      " [[ 4 -1]\n",
      " [ 2  2]]\n",
      "\n",
      "A*AT:\n",
      " [[20  0]\n",
      " [ 0  5]]\n"
     ]
    }
   ],
   "source": [
    "#Orthonormal matrix\n",
    "A = np.array([a, b])\n",
    "\n",
    "print('A:\\n', A)\n",
    "\n",
    "print('\\nAT:\\n',np.transpose(A))\n",
    "\n",
    "print('\\nA*AT:\\n',A@np.transpose(A))\n",
    "\n",
    "#print(np.linalg.det(A))\n",
    "#print(np.linalg.pinv(A))"
   ]
  },
  {
   "cell_type": "code",
   "execution_count": 8,
   "metadata": {},
   "outputs": [
    {
     "name": "stdout",
     "output_type": "stream",
     "text": [
      "A:\n",
      " [[ 0.89442719  0.4472136 ]\n",
      " [-0.4472136   0.89442719]]\n",
      "\n",
      "AT:\n",
      " [[ 0.89442719 -0.4472136 ]\n",
      " [ 0.4472136   0.89442719]]\n",
      "\n",
      "A*AT:\n",
      " [[1.00000000e+00 1.25949234e-17]\n",
      " [1.25949234e-17 1.00000000e+00]]\n"
     ]
    }
   ],
   "source": [
    "#Basis matrix\n",
    "a = [4, 2]\n",
    "b = [-1, 2]\n",
    "\n",
    "a_basis = a / np.linalg.norm(a)\n",
    "b_basis = b / np.linalg.norm(b)\n",
    "\n",
    "A = np.array([a_basis, b_basis])\n",
    "\n",
    "print('A:\\n', A)\n",
    "\n",
    "print('\\nAT:\\n',np.transpose(A))\n",
    "\n",
    "print('\\nA*AT:\\n',A@np.transpose(A))"
   ]
  },
  {
   "cell_type": "code",
   "execution_count": 9,
   "metadata": {},
   "outputs": [
    {
     "name": "stdout",
     "output_type": "stream",
     "text": [
      "A:\n",
      " [[ 0.66666667 -0.66666667  0.33333333]\n",
      " [ 0.33333333  0.66666667  0.66666667]\n",
      " [ 0.66666667  0.33333333 -0.66666667]]\n",
      "\n",
      "AT:\n",
      " [[ 0.66666667  0.33333333  0.66666667]\n",
      " [-0.66666667  0.66666667  0.33333333]\n",
      " [ 0.33333333  0.66666667 -0.66666667]]\n",
      "\n",
      "A*AT:\n",
      " [[1.00000000e+00 1.54197642e-17 1.23358114e-17]\n",
      " [1.54197642e-17 1.00000000e+00 2.46716228e-17]\n",
      " [1.23358114e-17 2.46716228e-17 1.00000000e+00]]\n"
     ]
    }
   ],
   "source": [
    "#Basis matrix\n",
    "a = [2, -2, 1]\n",
    "b = [1, 2, 2]\n",
    "c = [2, 1, -2]\n",
    "\n",
    "a_basis = a / np.linalg.norm(a)\n",
    "b_basis = b / np.linalg.norm(b)\n",
    "c_basis = c / np.linalg.norm(b)\n",
    "\n",
    "A = np.array([a_basis, b_basis, c_basis])\n",
    "\n",
    "print('A:\\n', A)\n",
    "\n",
    "print('\\nAT:\\n',np.transpose(A))\n",
    "\n",
    "print('\\nA*AT:\\n',A@np.transpose(A))"
   ]
  },
  {
   "cell_type": "code",
   "execution_count": 10,
   "metadata": {},
   "outputs": [
    {
     "data": {
      "image/png": "[encoded data removed]",
      "text/plain": [
       "<Figure size 432x288 with 1 Axes>"
      ]
     },
     "metadata": {
      "needs_background": "light"
     },
     "output_type": "display_data"
    }
   ],
   "source": [
    "Z = np.zeros((3,3))\n",
    "\n",
    "fig = plt.figure()\n",
    "ax = fig.gca(projection='3d')\n",
    "ax.set_xlim3d(-.7, .7)\n",
    "ax.set_ylim3d(-.7, .7)\n",
    "ax.set_zlim3d(-.7, .7)\n",
    "ax.quiver(Z[...,0],Z[...,1],Z[...,2],A[...,0],A[...,1],A[...,2], length = 0.5, normalize = False)\n",
    "plt.show()"
   ]
  },
  {
   "cell_type": "code",
   "execution_count": 11,
   "metadata": {},
   "outputs": [
    {
     "data": {
      "image/png": "[encoded data removed]",
      "text/plain": [
       "<Figure size 432x288 with 1 Axes>"
      ]
     },
     "metadata": {
      "needs_background": "light"
     },
     "output_type": "display_data"
    }
   ],
   "source": [
    "#Plot lines\n",
    "\n",
    "x1 = np.linspace(0,15,100)\n",
    "y1 = (15-2*x1)/3\n",
    "\n",
    "x2 = np.linspace(-0,15,100)\n",
    "y2 = (x2 -18)/3\n",
    "\n",
    "plt.plot(x1, y1, '-r', label='2x+3y = 15')\n",
    "plt.plot(x2, y2, '-b',label='x-3y = 18')\n",
    "plt.xlim(0,15)\n",
    "plt.ylim(-5,5)\n",
    "plt.title('Lines')\n",
    "plt.xlabel('x', color='#1C2833')\n",
    "plt.ylabel('y', color='#1C2833')\n",
    "plt.legend(loc='upper left')\n",
    "plt.grid()\n",
    "plt.show()"
   ]
  },
  {
   "cell_type": "code",
   "execution_count": 12,
   "metadata": {},
   "outputs": [
    {
     "name": "stdout",
     "output_type": "stream",
     "text": [
      "A:\n",
      " [[ 2  3]\n",
      " [ 1 -3]]\n",
      "\n",
      "_Inv:\n",
      " [[ 0.33333333  0.33333333]\n",
      " [ 0.11111111 -0.22222222]]\n",
      "\n",
      "Sol:\n",
      " [[11.        ]\n",
      " [-2.33333333]]\n"
     ]
    }
   ],
   "source": [
    "A = np.array([[2, 3],[1, -3]])\n",
    "print('A:\\n',A)\n",
    "\n",
    "A_inv = np.linalg.inv(A)\n",
    "print('\\n_Inv:\\n',A_inv)\n",
    "\n",
    "b = np.array([[15],[18]])\n",
    "Sol = A_inv@b \n",
    "\n",
    "print('\\nSol:\\n', Sol)"
   ]
  },
  {
   "cell_type": "code",
   "execution_count": 13,
   "metadata": {},
   "outputs": [
    {
     "name": "stdout",
     "output_type": "stream",
     "text": [
      "[[11.        ]\n",
      " [-2.33333333]]\n"
     ]
    }
   ],
   "source": [
    "#Function sol for linear equations:\n",
    "\n",
    "A = np.array([[2, 3],[1, -3]])\n",
    "b = np.array([[15],[18]])\n",
    "\n",
    "Solution = np.linalg.solve(A,b)\n",
    "\n",
    "print(Solution)\n"
   ]
  },
  {
   "cell_type": "code",
   "execution_count": 14,
   "metadata": {
    "scrolled": true
   },
   "outputs": [
    {
     "name": "stdout",
     "output_type": "stream",
     "text": [
      "A:\n",
      " [[  1   3   5]\n",
      " [  2   7  -3]\n",
      " [  4  15 -19]]\n",
      "\n",
      "A_inv:\n",
      " [[ 8.12957471e+16 -1.21943621e+17  4.06478736e+16]\n",
      " [-2.40191980e+16  3.60287970e+16 -1.20095990e+16]\n",
      " [-1.84763062e+15  2.77144592e+15 -9.23815308e+14]]\n",
      "\n",
      "Solution: [-2.27628092e+18  6.72537544e+17  5.17336573e+16]\n",
      "\n",
      "Solve Solution: [-2.27628092e+18  6.72537544e+17  5.17336573e+16]\n"
     ]
    }
   ],
   "source": [
    "#Linearly dependent system\n",
    "\n",
    "a = np.array([1, 3 , 5])\n",
    "b = np.array([2, 7 , -3])\n",
    "c = -2*a + 3*b \n",
    "\n",
    "A = np.array([a, b, c]) \n",
    "b = np.array([4, 15, -19])\n",
    "print('A:\\n',A)\n",
    "\n",
    "A_inv = np.linalg.inv(A)\n",
    "print('\\nA_inv:\\n',A_inv)\n",
    "\n",
    "print('\\nSolution:',A_inv@b)\n",
    "\n",
    "print('\\nSolve Solution:',np.linalg.solve(A,b))"
   ]
  },
  {
   "cell_type": "code",
   "execution_count": 15,
   "metadata": {},
   "outputs": [
    {
     "name": "stdout",
     "output_type": "stream",
     "text": [
      "A:\n",
      " [[  1   3   5]\n",
      " [  2   7  -3]\n",
      " [  4  15 -19]]\n",
      "\n",
      "A_inv:\n",
      " [[ 0.02821869  0.01987519  0.00318817]\n",
      " [ 0.08906526  0.06393298  0.01366843]\n",
      " [ 0.08377425  0.04337946 -0.03741012]]\n",
      "\n",
      "Solution: [0.35042735 1.05555556 1.6965812 ]\n",
      "\n",
      "Solve Solution: [-2.27628092e+18  6.72537544e+17  5.17336573e+16]\n"
     ]
    }
   ],
   "source": [
    "#Linearly dependent system\n",
    "\n",
    "a = np.array([1, 3 , 5])\n",
    "b = np.array([2, 7 , -3])\n",
    "c = -2*a + 3*b \n",
    "\n",
    "A = np.array([a, b, c]) \n",
    "b = np.array([4, 15, -19])\n",
    "print('A:\\n',A)\n",
    "\n",
    "A_pinv = np.linalg.pinv(A)\n",
    "print('\\nA_inv:\\n',A_pinv)\n",
    "\n",
    "print('\\nSolution:',A_pinv@b)\n",
    "\n",
    "print('\\nSolve Solution:',np.linalg.solve(A,b))"
   ]
  },
  {
   "cell_type": "code",
   "execution_count": 34,
   "metadata": {},
   "outputs": [
    {
     "name": "stdout",
     "output_type": "stream",
     "text": [
      "A:\n",
      ": [[ 3 -1]\n",
      " [ 4 -2]]\n",
      "\n",
      "Eigenvalues:\n",
      ": [ 2. -1.]\n",
      "\n",
      "Eigenvectors:\n",
      ": [[0.70710678 0.24253563]\n",
      " [0.70710678 0.9701425 ]]\n"
     ]
    }
   ],
   "source": [
    "#Eigenvalues and Eigen vectors\n",
    "\n",
    "A = np.array([[3,-1],[4,-2]])\n",
    "\n",
    "print('A:\\n:', A)\n",
    "\n",
    "Eigvalues, Eigvectors ,= np.linalg.eig(A) #Eigenveectors are in columns\n",
    "\n",
    "print('\\nEigenvalues:\\n:',Eigvalues)\n",
    "print('\\nEigenvectors:\\n:',Eigvectors)\n",
    "\n"
   ]
  },
  {
   "cell_type": "code",
   "execution_count": 35,
   "metadata": {},
   "outputs": [
    {
     "data": {
      "image/png": "[encoded data removed]",
      "text/plain": [
       "<Figure size 432x288 with 1 Axes>"
      ]
     },
     "metadata": {
      "needs_background": "light"
     },
     "output_type": "display_data"
    }
   ],
   "source": [
    "#Plot Eigen vectors. Onlyt plot two dimensions\n",
    "\n",
    "ax = plt.axes()\n",
    "\n",
    "ax.arrow(0.0, 0.0, Eigvectors[0][0], Eigvectors[1][0], head_width=0.1, head_length=0.1, fc='lightblue', ec='black')\n",
    "ax.arrow(0.0, 0.0, Eigvectors[0][1], Eigvectors[1][1], head_width=0.1, head_length=0.1, fc='red', ec='black')\n",
    "\n",
    "plt.grid()\n",
    "\n",
    "plt.xlim(-1,1)\n",
    "plt.ylim(-1,1)\n",
    "\n",
    "plt.title('Vectors',fontsize=10)\n",
    "\n",
    "plt.show() \n",
    "plt.close()"
   ]
  }
 ],
 "metadata": {
  "kernelspec": {
   "display_name": "Python 3",
   "language": "python",
   "name": "python3"
  },
  "language_info": {
   "codemirror_mode": {
    "name": "ipython",
    "version": 3
   },
   "file_extension": ".py",
   "mimetype": "text/x-python",
   "name": "python",
   "nbconvert_exporter": "python",
   "pygments_lexer": "ipython3",
   "version": "3.7.3"
  }
 },
 "nbformat": 4,
 "nbformat_minor": 2
}
